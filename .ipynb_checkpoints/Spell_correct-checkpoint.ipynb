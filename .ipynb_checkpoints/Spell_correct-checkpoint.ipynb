{
 "cells": [
  {
   "cell_type": "code",
   "execution_count": 3,
   "metadata": {},
   "outputs": [
    {
     "data": {
      "text/plain": [
       "True"
      ]
     },
     "execution_count": 3,
     "metadata": {},
     "output_type": "execute_result"
    }
   ],
   "source": [
    "#loading packages\n",
    "import pkg_resources\n",
    "from symspellpy.symspellpy import SymSpell, Verbosity\n",
    "\n",
    "# build symspell tree \n",
    "sym_spell = SymSpell(max_dictionary_edit_distance=2, prefix_length=7)\n",
    "#loading dictionary/lexicon\n",
    "dictionary_path = pkg_resources.resource_filename(\n",
    "    \"symspellpy\", \"frequency_dictionary_en_82_765.txt\")\n",
    "# term_index is the column of the term and count_index is the\n",
    "# column of the term frequency\n",
    "sym_spell.load_dictionary(dictionary_path, term_index=0, count_index=1)"
   ]
  },
  {
   "cell_type": "code",
   "execution_count": null,
   "metadata": {},
   "outputs": [],
   "source": []
  },
  {
   "cell_type": "code",
   "execution_count": 5,
   "metadata": {},
   "outputs": [
    {
     "name": "stdout",
     "output_type": "stream",
     "text": [
      "Misspelled Word -  loiking\n",
      "Corrected_word -  looking\n"
     ]
    }
   ],
   "source": [
    "# lookup suggestions for single-word input strings\n",
    "input_term = \"loiking\"  # misspelling of \"members\"\n",
    "# max edit distance per lookup\n",
    "print(\"Misspelled Word - \",input_term)\n",
    "# (max_edit_distance_lookup <= max_dictionary_edit_distance)\n",
    "suggestions = sym_spell.lookup(input_term, Verbosity.CLOSEST,\n",
    "                               max_edit_distance=2)\n",
    "# display suggestion term, term frequency, and edit distance\n",
    "for suggestion in suggestions:\n",
    "    #print(suggestion)\n",
    "    #print(suggestion.term,suggestion.distance,suggestion.count)\n",
    "    corrected_word = suggestion.term\n",
    "    break\n",
    "print(\"Corrected_word - \",corrected_word)"
   ]
  }
 ],
 "metadata": {
  "kernelspec": {
   "display_name": "Python 3",
   "language": "python",
   "name": "python3"
  },
  "language_info": {
   "codemirror_mode": {
    "name": "ipython",
    "version": 3
   },
   "file_extension": ".py",
   "mimetype": "text/x-python",
   "name": "python",
   "nbconvert_exporter": "python",
   "pygments_lexer": "ipython3",
   "version": "3.8.5"
  }
 },
 "nbformat": 4,
 "nbformat_minor": 4
}
