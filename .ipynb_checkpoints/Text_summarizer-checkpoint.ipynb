{
 "cells": [
  {
   "cell_type": "code",
   "execution_count": 2,
   "metadata": {},
   "outputs": [
    {
     "name": "stdout",
     "output_type": "stream",
     "text": [
      "Collecting bert-extractive-summarizer\n",
      "  Downloading bert_extractive_summarizer-0.10.1-py3-none-any.whl (25 kB)\n",
      "Requirement already satisfied: scikit-learn in c:\\users\\himanshuu\\anaconda3\\lib\\site-packages (from bert-extractive-summarizer) (0.23.2)\n",
      "Requirement already satisfied: spacy in c:\\users\\himanshuu\\anaconda3\\lib\\site-packages (from bert-extractive-summarizer) (3.1.3)\n",
      "Collecting transformers\n",
      "  Downloading transformers-4.18.0-py3-none-any.whl (4.0 MB)\n",
      "Requirement already satisfied: numpy>=1.13.3 in c:\\users\\himanshuu\\anaconda3\\lib\\site-packages (from scikit-learn->bert-extractive-summarizer) (1.19.2)\n",
      "Requirement already satisfied: joblib>=0.11 in c:\\users\\himanshuu\\anaconda3\\lib\\site-packages (from scikit-learn->bert-extractive-summarizer) (1.0.1)\n",
      "Requirement already satisfied: threadpoolctl>=2.0.0 in c:\\users\\himanshuu\\anaconda3\\lib\\site-packages (from scikit-learn->bert-extractive-summarizer) (2.1.0)\n",
      "Requirement already satisfied: scipy>=0.19.1 in c:\\users\\himanshuu\\anaconda3\\lib\\site-packages (from scikit-learn->bert-extractive-summarizer) (1.5.2)\n",
      "Requirement already satisfied: murmurhash<1.1.0,>=0.28.0 in c:\\users\\himanshuu\\anaconda3\\lib\\site-packages (from spacy->bert-extractive-summarizer) (1.0.5)\n",
      "Requirement already satisfied: wasabi<1.1.0,>=0.8.1 in c:\\users\\himanshuu\\anaconda3\\lib\\site-packages (from spacy->bert-extractive-summarizer) (0.8.2)\n",
      "Requirement already satisfied: catalogue<2.1.0,>=2.0.6 in c:\\users\\himanshuu\\anaconda3\\lib\\site-packages (from spacy->bert-extractive-summarizer) (2.0.6)\n",
      "Requirement already satisfied: thinc<8.1.0,>=8.0.9 in c:\\users\\himanshuu\\anaconda3\\lib\\site-packages (from spacy->bert-extractive-summarizer) (8.0.10)\n",
      "Requirement already satisfied: typer<0.5.0,>=0.3.0 in c:\\users\\himanshuu\\anaconda3\\lib\\site-packages (from spacy->bert-extractive-summarizer) (0.4.0)\n",
      "Requirement already satisfied: requests<3.0.0,>=2.13.0 in c:\\users\\himanshuu\\anaconda3\\lib\\site-packages (from spacy->bert-extractive-summarizer) (2.24.0)\n",
      "Requirement already satisfied: srsly<3.0.0,>=2.4.1 in c:\\users\\himanshuu\\anaconda3\\lib\\site-packages (from spacy->bert-extractive-summarizer) (2.4.1)\n",
      "Requirement already satisfied: setuptools in c:\\users\\himanshuu\\anaconda3\\lib\\site-packages (from spacy->bert-extractive-summarizer) (56.0.0)\n",
      "Requirement already satisfied: tqdm<5.0.0,>=4.38.0 in c:\\users\\himanshuu\\anaconda3\\lib\\site-packages (from spacy->bert-extractive-summarizer) (4.50.2)\n",
      "Requirement already satisfied: blis<0.8.0,>=0.4.0 in c:\\users\\himanshuu\\anaconda3\\lib\\site-packages (from spacy->bert-extractive-summarizer) (0.7.4)\n",
      "Requirement already satisfied: packaging>=20.0 in c:\\users\\himanshuu\\anaconda3\\lib\\site-packages (from spacy->bert-extractive-summarizer) (20.4)\n",
      "Requirement already satisfied: pathy>=0.3.5 in c:\\users\\himanshuu\\anaconda3\\lib\\site-packages (from spacy->bert-extractive-summarizer) (0.6.0)\n",
      "Requirement already satisfied: jinja2 in c:\\users\\himanshuu\\anaconda3\\lib\\site-packages (from spacy->bert-extractive-summarizer) (2.11.2)\n",
      "Requirement already satisfied: spacy-legacy<3.1.0,>=3.0.8 in c:\\users\\himanshuu\\anaconda3\\lib\\site-packages (from spacy->bert-extractive-summarizer) (3.0.8)\n",
      "Requirement already satisfied: preshed<3.1.0,>=3.0.2 in c:\\users\\himanshuu\\anaconda3\\lib\\site-packages (from spacy->bert-extractive-summarizer) (3.0.5)\n",
      "Requirement already satisfied: cymem<2.1.0,>=2.0.2 in c:\\users\\himanshuu\\anaconda3\\lib\\site-packages (from spacy->bert-extractive-summarizer) (2.0.5)\n",
      "Requirement already satisfied: pydantic!=1.8,!=1.8.1,<1.9.0,>=1.7.4 in c:\\users\\himanshuu\\anaconda3\\lib\\site-packages (from spacy->bert-extractive-summarizer) (1.8.2)\n",
      "Collecting sacremoses\n",
      "  Downloading sacremoses-0.0.49-py3-none-any.whl (895 kB)\n",
      "Collecting tokenizers!=0.11.3,<0.13,>=0.11.1\n",
      "  Downloading tokenizers-0.11.6-cp38-cp38-win_amd64.whl (3.2 MB)\n",
      "Requirement already satisfied: regex!=2019.12.17 in c:\\users\\himanshuu\\anaconda3\\lib\\site-packages (from transformers->bert-extractive-summarizer) (2020.10.15)\n",
      "Requirement already satisfied: filelock in c:\\users\\himanshuu\\anaconda3\\lib\\site-packages (from transformers->bert-extractive-summarizer) (3.0.12)\n",
      "Collecting huggingface-hub<1.0,>=0.1.0\n",
      "  Downloading huggingface_hub-0.5.1-py3-none-any.whl (77 kB)\n",
      "Requirement already satisfied: pyyaml>=5.1 in c:\\users\\himanshuu\\anaconda3\\lib\\site-packages (from transformers->bert-extractive-summarizer) (5.3.1)\n",
      "Requirement already satisfied: typing-extensions>=3.7.4.3 in c:\\users\\himanshuu\\anaconda3\\lib\\site-packages (from huggingface-hub<1.0,>=0.1.0->transformers->bert-extractive-summarizer) (3.7.4.3)\n",
      "Collecting packaging>=20.0\n",
      "  Using cached packaging-21.3-py3-none-any.whl (40 kB)\n",
      "Requirement already satisfied: pyparsing!=3.0.5,>=2.0.2 in c:\\users\\himanshuu\\anaconda3\\lib\\site-packages (from packaging>=20.0->spacy->bert-extractive-summarizer) (2.4.7)\n",
      "Requirement already satisfied: smart-open<6.0.0,>=5.0.0 in c:\\users\\himanshuu\\anaconda3\\lib\\site-packages (from pathy>=0.3.5->spacy->bert-extractive-summarizer) (5.2.1)\n",
      "Requirement already satisfied: idna<3,>=2.5 in c:\\users\\himanshuu\\anaconda3\\lib\\site-packages (from requests<3.0.0,>=2.13.0->spacy->bert-extractive-summarizer) (2.10)\n",
      "Requirement already satisfied: urllib3!=1.25.0,!=1.25.1,<1.26,>=1.21.1 in c:\\users\\himanshuu\\anaconda3\\lib\\site-packages (from requests<3.0.0,>=2.13.0->spacy->bert-extractive-summarizer) (1.25.11)\n",
      "Requirement already satisfied: chardet<4,>=3.0.2 in c:\\users\\himanshuu\\anaconda3\\lib\\site-packages (from requests<3.0.0,>=2.13.0->spacy->bert-extractive-summarizer) (3.0.4)\n",
      "Requirement already satisfied: certifi>=2017.4.17 in c:\\users\\himanshuu\\anaconda3\\lib\\site-packages (from requests<3.0.0,>=2.13.0->spacy->bert-extractive-summarizer) (2020.6.20)\n",
      "Requirement already satisfied: click<9.0.0,>=7.1.1 in c:\\users\\himanshuu\\anaconda3\\lib\\site-packages (from typer<0.5.0,>=0.3.0->spacy->bert-extractive-summarizer) (7.1.2)\n",
      "Requirement already satisfied: MarkupSafe>=0.23 in c:\\users\\himanshuu\\anaconda3\\lib\\site-packages (from jinja2->spacy->bert-extractive-summarizer) (2.0.1)\n",
      "Requirement already satisfied: six in c:\\users\\himanshuu\\anaconda3\\lib\\site-packages (from sacremoses->transformers->bert-extractive-summarizer) (1.15.0)\n",
      "Installing collected packages: packaging, tokenizers, sacremoses, huggingface-hub, transformers, bert-extractive-summarizer\n",
      "  Attempting uninstall: packaging\n",
      "    Found existing installation: packaging 20.4\n",
      "    Uninstalling packaging-20.4:\n",
      "      Successfully uninstalled packaging-20.4\n",
      "Successfully installed bert-extractive-summarizer-0.10.1 huggingface-hub-0.5.1 packaging-21.3 sacremoses-0.0.49 tokenizers-0.11.6 transformers-4.18.0\n"
     ]
    },
    {
     "name": "stderr",
     "output_type": "stream",
     "text": [
      "WARNING: Ignoring invalid distribution -ymongo (c:\\users\\himanshuu\\anaconda3\\lib\\site-packages)\n",
      "WARNING: Ignoring invalid distribution -ymongo (c:\\users\\himanshuu\\anaconda3\\lib\\site-packages)\n",
      "WARNING: Ignoring invalid distribution -ymongo (c:\\users\\himanshuu\\anaconda3\\lib\\site-packages)\n",
      "    WARNING: Ignoring invalid distribution -ymongo (c:\\users\\himanshuu\\anaconda3\\lib\\site-packages)\n",
      "WARNING: Ignoring invalid distribution -ymongo (c:\\users\\himanshuu\\anaconda3\\lib\\site-packages)\n",
      "WARNING: Ignoring invalid distribution -ymongo (c:\\users\\himanshuu\\anaconda3\\lib\\site-packages)\n",
      "WARNING: Ignoring invalid distribution -ymongo (c:\\users\\himanshuu\\anaconda3\\lib\\site-packages)\n",
      "WARNING: Ignoring invalid distribution -ymongo (c:\\users\\himanshuu\\anaconda3\\lib\\site-packages)\n",
      "WARNING: Ignoring invalid distribution -ymongo (c:\\users\\himanshuu\\anaconda3\\lib\\site-packages)\n",
      "WARNING: Ignoring invalid distribution -ymongo (c:\\users\\himanshuu\\anaconda3\\lib\\site-packages)\n",
      "WARNING: Ignoring invalid distribution -ymongo (c:\\users\\himanshuu\\anaconda3\\lib\\site-packages)\n",
      "WARNING: Ignoring invalid distribution -ymongo (c:\\users\\himanshuu\\anaconda3\\lib\\site-packages)\n",
      "WARNING: Ignoring invalid distribution -ymongo (c:\\users\\himanshuu\\anaconda3\\lib\\site-packages)\n",
      "WARNING: You are using pip version 21.3.1; however, version 22.0.4 is available.\n",
      "You should consider upgrading via the 'c:\\users\\himanshuu\\anaconda3\\python.exe -m pip install --upgrade pip' command.\n"
     ]
    }
   ],
   "source": [
    "!pip install bert-extractive-summarizer"
   ]
  },
  {
   "cell_type": "code",
   "execution_count": 3,
   "metadata": {},
   "outputs": [
    {
     "name": "stdout",
     "output_type": "stream",
     "text": [
      "Requirement already satisfied: spacy in c:\\users\\himanshuu\\anaconda3\\lib\\site-packages (3.1.3)\n",
      "Requirement already satisfied: thinc<8.1.0,>=8.0.9 in c:\\users\\himanshuu\\anaconda3\\lib\\site-packages (from spacy) (8.0.10)\n",
      "Requirement already satisfied: cymem<2.1.0,>=2.0.2 in c:\\users\\himanshuu\\anaconda3\\lib\\site-packages (from spacy) (2.0.5)\n",
      "Requirement already satisfied: numpy>=1.15.0 in c:\\users\\himanshuu\\anaconda3\\lib\\site-packages (from spacy) (1.19.2)\n",
      "Requirement already satisfied: jinja2 in c:\\users\\himanshuu\\anaconda3\\lib\\site-packages (from spacy) (2.11.2)\n",
      "Requirement already satisfied: preshed<3.1.0,>=3.0.2 in c:\\users\\himanshuu\\anaconda3\\lib\\site-packages (from spacy) (3.0.5)\n",
      "Requirement already satisfied: srsly<3.0.0,>=2.4.1 in c:\\users\\himanshuu\\anaconda3\\lib\\site-packages (from spacy) (2.4.1)\n"
     ]
    },
    {
     "name": "stderr",
     "output_type": "stream",
     "text": [
      "WARNING: Ignoring invalid distribution -ymongo (c:\\users\\himanshuu\\anaconda3\\lib\\site-packages)\n",
      "WARNING: Ignoring invalid distribution -ymongo (c:\\users\\himanshuu\\anaconda3\\lib\\site-packages)\n",
      "WARNING: Ignoring invalid distribution -ymongo (c:\\users\\himanshuu\\anaconda3\\lib\\site-packages)\n",
      "WARNING: Ignoring invalid distribution -ymongo (c:\\users\\himanshuu\\anaconda3\\lib\\site-packages)\n",
      "WARNING: Ignoring invalid distribution -ymongo (c:\\users\\himanshuu\\anaconda3\\lib\\site-packages)\n",
      "WARNING: Ignoring invalid distribution -ymongo (c:\\users\\himanshuu\\anaconda3\\lib\\site-packages)\n",
      "WARNING: You are using pip version 21.3.1; however, version 22.0.4 is available.\n",
      "You should consider upgrading via the 'c:\\users\\himanshuu\\anaconda3\\python.exe -m pip install --upgrade pip' command.\n"
     ]
    },
    {
     "name": "stdout",
     "output_type": "stream",
     "text": [
      "Requirement already satisfied: tqdm<5.0.0,>=4.38.0 in c:\\users\\himanshuu\\anaconda3\\lib\\site-packages (from spacy) (4.50.2)\n",
      "Requirement already satisfied: typer<0.5.0,>=0.3.0 in c:\\users\\himanshuu\\anaconda3\\lib\\site-packages (from spacy) (0.4.0)\n",
      "Requirement already satisfied: requests<3.0.0,>=2.13.0 in c:\\users\\himanshuu\\anaconda3\\lib\\site-packages (from spacy) (2.24.0)\n",
      "Requirement already satisfied: wasabi<1.1.0,>=0.8.1 in c:\\users\\himanshuu\\anaconda3\\lib\\site-packages (from spacy) (0.8.2)\n",
      "Requirement already satisfied: setuptools in c:\\users\\himanshuu\\anaconda3\\lib\\site-packages (from spacy) (56.0.0)\n",
      "Requirement already satisfied: murmurhash<1.1.0,>=0.28.0 in c:\\users\\himanshuu\\anaconda3\\lib\\site-packages (from spacy) (1.0.5)\n",
      "Requirement already satisfied: catalogue<2.1.0,>=2.0.6 in c:\\users\\himanshuu\\anaconda3\\lib\\site-packages (from spacy) (2.0.6)\n",
      "Requirement already satisfied: pathy>=0.3.5 in c:\\users\\himanshuu\\anaconda3\\lib\\site-packages (from spacy) (0.6.0)\n",
      "Requirement already satisfied: packaging>=20.0 in c:\\users\\himanshuu\\anaconda3\\lib\\site-packages (from spacy) (21.3)\n",
      "Requirement already satisfied: blis<0.8.0,>=0.4.0 in c:\\users\\himanshuu\\anaconda3\\lib\\site-packages (from spacy) (0.7.4)\n",
      "Requirement already satisfied: spacy-legacy<3.1.0,>=3.0.8 in c:\\users\\himanshuu\\anaconda3\\lib\\site-packages (from spacy) (3.0.8)\n",
      "Requirement already satisfied: pydantic!=1.8,!=1.8.1,<1.9.0,>=1.7.4 in c:\\users\\himanshuu\\anaconda3\\lib\\site-packages (from spacy) (1.8.2)\n",
      "Requirement already satisfied: pyparsing!=3.0.5,>=2.0.2 in c:\\users\\himanshuu\\anaconda3\\lib\\site-packages (from packaging>=20.0->spacy) (2.4.7)\n",
      "Requirement already satisfied: smart-open<6.0.0,>=5.0.0 in c:\\users\\himanshuu\\anaconda3\\lib\\site-packages (from pathy>=0.3.5->spacy) (5.2.1)\n",
      "Requirement already satisfied: typing-extensions>=3.7.4.3 in c:\\users\\himanshuu\\anaconda3\\lib\\site-packages (from pydantic!=1.8,!=1.8.1,<1.9.0,>=1.7.4->spacy) (3.7.4.3)\n",
      "Requirement already satisfied: certifi>=2017.4.17 in c:\\users\\himanshuu\\anaconda3\\lib\\site-packages (from requests<3.0.0,>=2.13.0->spacy) (2020.6.20)\n",
      "Requirement already satisfied: chardet<4,>=3.0.2 in c:\\users\\himanshuu\\anaconda3\\lib\\site-packages (from requests<3.0.0,>=2.13.0->spacy) (3.0.4)\n",
      "Requirement already satisfied: urllib3!=1.25.0,!=1.25.1,<1.26,>=1.21.1 in c:\\users\\himanshuu\\anaconda3\\lib\\site-packages (from requests<3.0.0,>=2.13.0->spacy) (1.25.11)\n",
      "Requirement already satisfied: idna<3,>=2.5 in c:\\users\\himanshuu\\anaconda3\\lib\\site-packages (from requests<3.0.0,>=2.13.0->spacy) (2.10)\n",
      "Requirement already satisfied: click<9.0.0,>=7.1.1 in c:\\users\\himanshuu\\anaconda3\\lib\\site-packages (from typer<0.5.0,>=0.3.0->spacy) (7.1.2)\n",
      "Requirement already satisfied: MarkupSafe>=0.23 in c:\\users\\himanshuu\\anaconda3\\lib\\site-packages (from jinja2->spacy) (2.0.1)\n"
     ]
    },
    {
     "name": "stderr",
     "output_type": "stream",
     "text": [
      "WARNING: Ignoring invalid distribution -ymongo (c:\\users\\himanshuu\\anaconda3\\lib\\site-packages)\n",
      "ERROR: Invalid requirement: '#'\n",
      "WARNING: Ignoring invalid distribution -ymongo (c:\\users\\himanshuu\\anaconda3\\lib\\site-packages)\n",
      "WARNING: Ignoring invalid distribution -ymongo (c:\\users\\himanshuu\\anaconda3\\lib\\site-packages)\n",
      "WARNING: Ignoring invalid distribution -ymongo (c:\\users\\himanshuu\\anaconda3\\lib\\site-packages)\n",
      "WARNING: You are using pip version 21.3.1; however, version 22.0.4 is available.\n",
      "You should consider upgrading via the 'c:\\users\\himanshuu\\anaconda3\\python.exe -m pip install --upgrade pip' command.\n"
     ]
    },
    {
     "name": "stdout",
     "output_type": "stream",
     "text": [
      "Collecting neuralcoref\n",
      "  Downloading neuralcoref-4.0.tar.gz (368 kB)\n",
      "  Preparing metadata (setup.py): started\n",
      "  Preparing metadata (setup.py): finished with status 'done'\n",
      "Requirement already satisfied: numpy>=1.15.0 in c:\\users\\himanshuu\\anaconda3\\lib\\site-packages (from neuralcoref) (1.19.2)\n",
      "Collecting boto3\n",
      "  Downloading boto3-1.21.37-py3-none-any.whl (132 kB)\n",
      "Requirement already satisfied: requests<3.0.0,>=2.13.0 in c:\\users\\himanshuu\\anaconda3\\lib\\site-packages (from neuralcoref) (2.24.0)\n",
      "Requirement already satisfied: spacy>=2.1.0 in c:\\users\\himanshuu\\anaconda3\\lib\\site-packages (from neuralcoref) (3.1.3)\n",
      "Requirement already satisfied: urllib3!=1.25.0,!=1.25.1,<1.26,>=1.21.1 in c:\\users\\himanshuu\\anaconda3\\lib\\site-packages (from requests<3.0.0,>=2.13.0->neuralcoref) (1.25.11)\n",
      "Requirement already satisfied: certifi>=2017.4.17 in c:\\users\\himanshuu\\anaconda3\\lib\\site-packages (from requests<3.0.0,>=2.13.0->neuralcoref) (2020.6.20)\n",
      "Requirement already satisfied: chardet<4,>=3.0.2 in c:\\users\\himanshuu\\anaconda3\\lib\\site-packages (from requests<3.0.0,>=2.13.0->neuralcoref) (3.0.4)\n",
      "Requirement already satisfied: idna<3,>=2.5 in c:\\users\\himanshuu\\anaconda3\\lib\\site-packages (from requests<3.0.0,>=2.13.0->neuralcoref) (2.10)\n",
      "Requirement already satisfied: murmurhash<1.1.0,>=0.28.0 in c:\\users\\himanshuu\\anaconda3\\lib\\site-packages (from spacy>=2.1.0->neuralcoref) (1.0.5)\n",
      "Requirement already satisfied: preshed<3.1.0,>=3.0.2 in c:\\users\\himanshuu\\anaconda3\\lib\\site-packages (from spacy>=2.1.0->neuralcoref) (3.0.5)\n",
      "Requirement already satisfied: srsly<3.0.0,>=2.4.1 in c:\\users\\himanshuu\\anaconda3\\lib\\site-packages (from spacy>=2.1.0->neuralcoref) (2.4.1)\n",
      "Requirement already satisfied: wasabi<1.1.0,>=0.8.1 in c:\\users\\himanshuu\\anaconda3\\lib\\site-packages (from spacy>=2.1.0->neuralcoref) (0.8.2)\n",
      "Requirement already satisfied: pathy>=0.3.5 in c:\\users\\himanshuu\\anaconda3\\lib\\site-packages (from spacy>=2.1.0->neuralcoref) (0.6.0)\n",
      "Requirement already satisfied: pydantic!=1.8,!=1.8.1,<1.9.0,>=1.7.4 in c:\\users\\himanshuu\\anaconda3\\lib\\site-packages (from spacy>=2.1.0->neuralcoref) (1.8.2)\n",
      "Requirement already satisfied: blis<0.8.0,>=0.4.0 in c:\\users\\himanshuu\\anaconda3\\lib\\site-packages (from spacy>=2.1.0->neuralcoref) (0.7.4)\n",
      "Requirement already satisfied: typer<0.5.0,>=0.3.0 in c:\\users\\himanshuu\\anaconda3\\lib\\site-packages (from spacy>=2.1.0->neuralcoref) (0.4.0)\n",
      "Requirement already satisfied: jinja2 in c:\\users\\himanshuu\\anaconda3\\lib\\site-packages (from spacy>=2.1.0->neuralcoref) (2.11.2)\n",
      "Requirement already satisfied: tqdm<5.0.0,>=4.38.0 in c:\\users\\himanshuu\\anaconda3\\lib\\site-packages (from spacy>=2.1.0->neuralcoref) (4.50.2)\n",
      "Requirement already satisfied: catalogue<2.1.0,>=2.0.6 in c:\\users\\himanshuu\\anaconda3\\lib\\site-packages (from spacy>=2.1.0->neuralcoref) (2.0.6)\n",
      "Requirement already satisfied: cymem<2.1.0,>=2.0.2 in c:\\users\\himanshuu\\anaconda3\\lib\\site-packages (from spacy>=2.1.0->neuralcoref) (2.0.5)\n",
      "Requirement already satisfied: setuptools in c:\\users\\himanshuu\\anaconda3\\lib\\site-packages (from spacy>=2.1.0->neuralcoref) (56.0.0)\n",
      "Requirement already satisfied: thinc<8.1.0,>=8.0.9 in c:\\users\\himanshuu\\anaconda3\\lib\\site-packages (from spacy>=2.1.0->neuralcoref) (8.0.10)\n",
      "Requirement already satisfied: spacy-legacy<3.1.0,>=3.0.8 in c:\\users\\himanshuu\\anaconda3\\lib\\site-packages (from spacy>=2.1.0->neuralcoref) (3.0.8)\n",
      "Requirement already satisfied: packaging>=20.0 in c:\\users\\himanshuu\\anaconda3\\lib\\site-packages (from spacy>=2.1.0->neuralcoref) (21.3)\n",
      "Collecting s3transfer<0.6.0,>=0.5.0\n",
      "  Downloading s3transfer-0.5.2-py3-none-any.whl (79 kB)\n",
      "Collecting botocore<1.25.0,>=1.24.37\n",
      "  Downloading botocore-1.24.37-py3-none-any.whl (8.7 MB)\n",
      "Collecting jmespath<2.0.0,>=0.7.1\n",
      "  Downloading jmespath-1.0.0-py3-none-any.whl (23 kB)\n",
      "Requirement already satisfied: python-dateutil<3.0.0,>=2.1 in c:\\users\\himanshuu\\anaconda3\\lib\\site-packages (from botocore<1.25.0,>=1.24.37->boto3->neuralcoref) (2.8.1)\n",
      "Requirement already satisfied: pyparsing!=3.0.5,>=2.0.2 in c:\\users\\himanshuu\\anaconda3\\lib\\site-packages (from packaging>=20.0->spacy>=2.1.0->neuralcoref) (2.4.7)\n",
      "Requirement already satisfied: smart-open<6.0.0,>=5.0.0 in c:\\users\\himanshuu\\anaconda3\\lib\\site-packages (from pathy>=0.3.5->spacy>=2.1.0->neuralcoref) (5.2.1)\n",
      "Requirement already satisfied: typing-extensions>=3.7.4.3 in c:\\users\\himanshuu\\anaconda3\\lib\\site-packages (from pydantic!=1.8,!=1.8.1,<1.9.0,>=1.7.4->spacy>=2.1.0->neuralcoref) (3.7.4.3)\n",
      "Requirement already satisfied: click<9.0.0,>=7.1.1 in c:\\users\\himanshuu\\anaconda3\\lib\\site-packages (from typer<0.5.0,>=0.3.0->spacy>=2.1.0->neuralcoref) (7.1.2)\n",
      "Requirement already satisfied: MarkupSafe>=0.23 in c:\\users\\himanshuu\\anaconda3\\lib\\site-packages (from jinja2->spacy>=2.1.0->neuralcoref) (2.0.1)\n",
      "Requirement already satisfied: six>=1.5 in c:\\users\\himanshuu\\anaconda3\\lib\\site-packages (from python-dateutil<3.0.0,>=2.1->botocore<1.25.0,>=1.24.37->boto3->neuralcoref) (1.15.0)\n",
      "Building wheels for collected packages: neuralcoref\n",
      "  Building wheel for neuralcoref (setup.py): started\n"
     ]
    },
    {
     "name": "stderr",
     "output_type": "stream",
     "text": [
      "WARNING: Ignoring invalid distribution -ymongo (c:\\users\\himanshuu\\anaconda3\\lib\\site-packages)\n",
      "WARNING: Ignoring invalid distribution -ymongo (c:\\users\\himanshuu\\anaconda3\\lib\\site-packages)\n",
      "  ERROR: Command errored out with exit status 1:\n",
      "   command: 'c:\\users\\himanshuu\\anaconda3\\python.exe' -u -c 'import io, os, sys, setuptools, tokenize; sys.argv[0] = '\"'\"'C:\\\\Users\\\\HIMANSHUU\\\\AppData\\\\Local\\\\Temp\\\\pip-install-7untz7gg\\\\neuralcoref_11d635cd3c724031a1ee6d11b1b5a7fe\\\\setup.py'\"'\"'; __file__='\"'\"'C:\\\\Users\\\\HIMANSHUU\\\\AppData\\\\Local\\\\Temp\\\\pip-install-7untz7gg\\\\neuralcoref_11d635cd3c724031a1ee6d11b1b5a7fe\\\\setup.py'\"'\"';f = getattr(tokenize, '\"'\"'open'\"'\"', open)(__file__) if os.path.exists(__file__) else io.StringIO('\"'\"'from setuptools import setup; setup()'\"'\"');code = f.read().replace('\"'\"'\\r\\n'\"'\"', '\"'\"'\\n'\"'\"');f.close();exec(compile(code, __file__, '\"'\"'exec'\"'\"'))' bdist_wheel -d 'C:\\Users\\HIMANSHUU\\AppData\\Local\\Temp\\pip-wheel-gft_cqnr'\n",
      "       cwd: C:\\Users\\HIMANSHUU\\AppData\\Local\\Temp\\pip-install-7untz7gg\\neuralcoref_11d635cd3c724031a1ee6d11b1b5a7fe\\\n",
      "  Complete output (25 lines):\n",
      "  running bdist_wheel\n",
      "  running build\n",
      "  running build_py\n",
      "  creating build\n",
      "  creating build\\lib.win-amd64-3.8\n",
      "  creating build\\lib.win-amd64-3.8\\neuralcoref\n",
      "  copying neuralcoref\\file_utils.py -> build\\lib.win-amd64-3.8\\neuralcoref\n",
      "  copying neuralcoref\\__init__.py -> build\\lib.win-amd64-3.8\\neuralcoref\n",
      "  creating build\\lib.win-amd64-3.8\\neuralcoref\\tests\n",
      "  copying neuralcoref\\tests\\test_neuralcoref.py -> build\\lib.win-amd64-3.8\\neuralcoref\\tests\n",
      "  copying neuralcoref\\tests\\__init__.py -> build\\lib.win-amd64-3.8\\neuralcoref\\tests\n",
      "  creating build\\lib.win-amd64-3.8\\neuralcoref\\train\n",
      "  copying neuralcoref\\train\\algorithm.py -> build\\lib.win-amd64-3.8\\neuralcoref\\train\n",
      "  copying neuralcoref\\train\\compat.py -> build\\lib.win-amd64-3.8\\neuralcoref\\train\n",
      "  copying neuralcoref\\train\\conllparser.py -> build\\lib.win-amd64-3.8\\neuralcoref\\train\n",
      "  copying neuralcoref\\train\\dataset.py -> build\\lib.win-amd64-3.8\\neuralcoref\\train\n",
      "  copying neuralcoref\\train\\document.py -> build\\lib.win-amd64-3.8\\neuralcoref\\train\n",
      "  copying neuralcoref\\train\\evaluator.py -> build\\lib.win-amd64-3.8\\neuralcoref\\train\n",
      "  copying neuralcoref\\train\\learn.py -> build\\lib.win-amd64-3.8\\neuralcoref\\train\n",
      "  copying neuralcoref\\train\\model.py -> build\\lib.win-amd64-3.8\\neuralcoref\\train\n",
      "  copying neuralcoref\\train\\utils.py -> build\\lib.win-amd64-3.8\\neuralcoref\\train\n",
      "  copying neuralcoref\\train\\__init__.py -> build\\lib.win-amd64-3.8\\neuralcoref\\train\n",
      "  running build_ext\n",
      "  building 'neuralcoref.neuralcoref' extension\n",
      "  error: Microsoft Visual C++ 14.0 or greater is required. Get it with \"Microsoft C++ Build Tools\": https://visualstudio.microsoft.com/visual-cpp-build-tools/\n",
      "  ----------------------------------------\n",
      "  ERROR: Failed building wheel for neuralcoref\n",
      "WARNING: Ignoring invalid distribution -ymongo (c:\\users\\himanshuu\\anaconda3\\lib\\site-packages)\n",
      "    ERROR: Command errored out with exit status 1:\n",
      "     command: 'c:\\users\\himanshuu\\anaconda3\\python.exe' -u -c 'import io, os, sys, setuptools, tokenize; sys.argv[0] = '\"'\"'C:\\\\Users\\\\HIMANSHUU\\\\AppData\\\\Local\\\\Temp\\\\pip-install-7untz7gg\\\\neuralcoref_11d635cd3c724031a1ee6d11b1b5a7fe\\\\setup.py'\"'\"'; __file__='\"'\"'C:\\\\Users\\\\HIMANSHUU\\\\AppData\\\\Local\\\\Temp\\\\pip-install-7untz7gg\\\\neuralcoref_11d635cd3c724031a1ee6d11b1b5a7fe\\\\setup.py'\"'\"';f = getattr(tokenize, '\"'\"'open'\"'\"', open)(__file__) if os.path.exists(__file__) else io.StringIO('\"'\"'from setuptools import setup; setup()'\"'\"');code = f.read().replace('\"'\"'\\r\\n'\"'\"', '\"'\"'\\n'\"'\"');f.close();exec(compile(code, __file__, '\"'\"'exec'\"'\"'))' install --record 'C:\\Users\\HIMANSHUU\\AppData\\Local\\Temp\\pip-record-dvqi26ip\\install-record.txt' --single-version-externally-managed --compile --install-headers 'c:\\users\\himanshuu\\anaconda3\\Include\\neuralcoref'\n",
      "         cwd: C:\\Users\\HIMANSHUU\\AppData\\Local\\Temp\\pip-install-7untz7gg\\neuralcoref_11d635cd3c724031a1ee6d11b1b5a7fe\\\n",
      "    Complete output (25 lines):\n",
      "    running install\n",
      "    running build\n",
      "    running build_py\n",
      "    creating build\n",
      "    creating build\\lib.win-amd64-3.8\n",
      "    creating build\\lib.win-amd64-3.8\\neuralcoref\n",
      "    copying neuralcoref\\file_utils.py -> build\\lib.win-amd64-3.8\\neuralcoref\n",
      "    copying neuralcoref\\__init__.py -> build\\lib.win-amd64-3.8\\neuralcoref\n",
      "    creating build\\lib.win-amd64-3.8\\neuralcoref\\tests\n",
      "    copying neuralcoref\\tests\\test_neuralcoref.py -> build\\lib.win-amd64-3.8\\neuralcoref\\tests\n",
      "    copying neuralcoref\\tests\\__init__.py -> build\\lib.win-amd64-3.8\\neuralcoref\\tests\n",
      "    creating build\\lib.win-amd64-3.8\\neuralcoref\\train\n",
      "    copying neuralcoref\\train\\algorithm.py -> build\\lib.win-amd64-3.8\\neuralcoref\\train\n",
      "    copying neuralcoref\\train\\compat.py -> build\\lib.win-amd64-3.8\\neuralcoref\\train\n",
      "    copying neuralcoref\\train\\conllparser.py -> build\\lib.win-amd64-3.8\\neuralcoref\\train\n",
      "    copying neuralcoref\\train\\dataset.py -> build\\lib.win-amd64-3.8\\neuralcoref\\train\n",
      "    copying neuralcoref\\train\\document.py -> build\\lib.win-amd64-3.8\\neuralcoref\\train\n",
      "    copying neuralcoref\\train\\evaluator.py -> build\\lib.win-amd64-3.8\\neuralcoref\\train\n",
      "    copying neuralcoref\\train\\learn.py -> build\\lib.win-amd64-3.8\\neuralcoref\\train\n",
      "    copying neuralcoref\\train\\model.py -> build\\lib.win-amd64-3.8\\neuralcoref\\train\n",
      "    copying neuralcoref\\train\\utils.py -> build\\lib.win-amd64-3.8\\neuralcoref\\train\n",
      "    copying neuralcoref\\train\\__init__.py -> build\\lib.win-amd64-3.8\\neuralcoref\\train\n",
      "    running build_ext\n",
      "    building 'neuralcoref.neuralcoref' extension\n",
      "    error: Microsoft Visual C++ 14.0 or greater is required. Get it with \"Microsoft C++ Build Tools\": https://visualstudio.microsoft.com/visual-cpp-build-tools/\n",
      "    ----------------------------------------\n",
      "ERROR: Command errored out with exit status 1: 'c:\\users\\himanshuu\\anaconda3\\python.exe' -u -c 'import io, os, sys, setuptools, tokenize; sys.argv[0] = '\"'\"'C:\\\\Users\\\\HIMANSHUU\\\\AppData\\\\Local\\\\Temp\\\\pip-install-7untz7gg\\\\neuralcoref_11d635cd3c724031a1ee6d11b1b5a7fe\\\\setup.py'\"'\"'; __file__='\"'\"'C:\\\\Users\\\\HIMANSHUU\\\\AppData\\\\Local\\\\Temp\\\\pip-install-7untz7gg\\\\neuralcoref_11d635cd3c724031a1ee6d11b1b5a7fe\\\\setup.py'\"'\"';f = getattr(tokenize, '\"'\"'open'\"'\"', open)(__file__) if os.path.exists(__file__) else io.StringIO('\"'\"'from setuptools import setup; setup()'\"'\"');code = f.read().replace('\"'\"'\\r\\n'\"'\"', '\"'\"'\\n'\"'\"');f.close();exec(compile(code, __file__, '\"'\"'exec'\"'\"'))' install --record 'C:\\Users\\HIMANSHUU\\AppData\\Local\\Temp\\pip-record-dvqi26ip\\install-record.txt' --single-version-externally-managed --compile --install-headers 'c:\\users\\himanshuu\\anaconda3\\Include\\neuralcoref' Check the logs for full command output.\n",
      "WARNING: Ignoring invalid distribution -ymongo (c:\\users\\himanshuu\\anaconda3\\lib\\site-packages)"
     ]
    },
    {
     "name": "stdout",
     "output_type": "stream",
     "text": [
      "  Building wheel for neuralcoref (setup.py): finished with status 'error'\n",
      "  Running setup.py clean for neuralcoref\n",
      "Failed to build neuralcoref\n",
      "Installing collected packages: jmespath, botocore, s3transfer, boto3, neuralcoref\n",
      "    Running setup.py install for neuralcoref: started\n",
      "    Running setup.py install for neuralcoref: finished with status 'error'\n"
     ]
    },
    {
     "name": "stderr",
     "output_type": "stream",
     "text": [
      "\n",
      "WARNING: Ignoring invalid distribution -ymongo (c:\\users\\himanshuu\\anaconda3\\lib\\site-packages)\n",
      "WARNING: Ignoring invalid distribution -ymongo (c:\\users\\himanshuu\\anaconda3\\lib\\site-packages)\n",
      "WARNING: You are using pip version 21.3.1; however, version 22.0.4 is available.\n",
      "You should consider upgrading via the 'c:\\users\\himanshuu\\anaconda3\\python.exe -m pip install --upgrade pip' command.\n"
     ]
    }
   ],
   "source": [
    "!pip install spacy\n",
    "!pip install transformers # > 4.0.0\n",
    "!pip install neuralcoref"
   ]
  },
  {
   "cell_type": "code",
   "execution_count": null,
   "metadata": {},
   "outputs": [],
   "source": [
    "!python -m spacy download en_core_web_md"
   ]
  },
  {
   "cell_type": "code",
   "execution_count": null,
   "metadata": {},
   "outputs": [],
   "source": [
    "#from summarizer import Summarizer\n",
    "\n",
    "model = Summarizer()\n",
    "\n",
    "text = \"Learning NLP involves understanding basic principles of machine learning which then need to be customized for words. With the advent of using transfer learning for NLP I think it hads made a huge progress in terms of its research\""
   ]
  },
  {
   "cell_type": "code",
   "execution_count": null,
   "metadata": {},
   "outputs": [],
   "source": [
    "from tqdm import tqdm\n",
    "bert_predicted_summary = []\n",
    "k = 0\n",
    "for i in tqdm(df['text']):\n",
    "    if k < 10:\n",
    "        x = model(str(i))\n",
    "        bert_predicted_summary.append(x)\n",
    "        k+=1"
   ]
  },
  {
   "cell_type": "code",
   "execution_count": null,
   "metadata": {},
   "outputs": [],
   "source": [
    "path = '/kaggle/input/bbc-news-summary/bbc news summary/BBC News Summary/News Articles/'\n",
    "for i in os.listdir(path):\n",
    "    for j in os.listdir(os.path.join(path+i)):\n",
    "        with open(os.path.join(path+i+'/'+j),'rb') as f:\n",
    "                article = f.readlines()\n",
    "                article = re.sub('b'','',str(article))\n",
    "                article = re.sub('[\\nnt-\\/]','',article)\n",
    "                article = re.sub('n'','',article)\n",
    "                article = re.sub('xc2xa','',article)\n",
    "                article = article.lower()\n",
    "                text.append(article)\n",
    "                type_.append(i)"
   ]
  },
  {
   "cell_type": "code",
   "execution_count": null,
   "metadata": {},
   "outputs": [],
   "source": [
    "def calculate_bleu_score(bert_predicted_summary,df):\n",
    "    for i in range(len(bert_predicted_summary)):\n",
    "        candidate = list(bert_predicted_summary[i].split(\".\"))\n",
    "        reference = list(str(df['summary'][i]).split(\".\"))\n",
    "        print(corpus_bleu(reference[:len(candidate)],candidate))\n",
    "calculate_bleu_score(bert_predicted_summary,df)"
   ]
  },
  {
   "cell_type": "code",
   "execution_count": null,
   "metadata": {},
   "outputs": [],
   "source": [
    "def count_freq():\n",
    "\n",
    "\n",
    "    res = {}\n",
    "    for i in df['cleaned_text']:\n",
    "        for k in word_tokenize(i):\n",
    "            if k in res:\n",
    "                res[k] += 1\n",
    "            else:\n",
    "                res[k] = 1\n",
    "    return res\n",
    "word_freq = count_freq()\n"
   ]
  },
  {
   "cell_type": "code",
   "execution_count": null,
   "metadata": {},
   "outputs": [],
   "source": [
    "def sentence_rank(text):\n",
    "    weights = []\n",
    "    sentences = sent_tokenize(text)\n",
    "    for sentence in sentences:\n",
    "        temp = 0\n",
    "        words = word_tokenize(sentence)\n",
    "        for word in words:\n",
    "            temp += word_freq[word]\n",
    "        weights.append(temp)\n",
    "    return weights"
   ]
  },
  {
   "cell_type": "code",
   "execution_count": null,
   "metadata": {},
   "outputs": [],
   "source": [
    "n = 14\n",
    "for i in range(10):\n",
    "    ranked_sentences = sentence_rank(df['cleaned_text'][i])\n",
    "    sentences = sent_tokenize(df['cleaned_text'][i])\n",
    "    sort_list = np.argsort(ranked_sentences)[::-1][:n]\n",
    "    result = ''\n",
    "    for i in range(n):\n",
    "        result += '{} '.format(sentences[sort_list[i]])\n",
    "    candidate = result\n",
    "    reference = df['summary'][i]\n",
    "    print(corpus_bleu(reference[:len(candidate)],candidate[:len(reference)]))"
   ]
  }
 ],
 "metadata": {
  "kernelspec": {
   "display_name": "Python 3",
   "language": "python",
   "name": "python3"
  },
  "language_info": {
   "codemirror_mode": {
    "name": "ipython",
    "version": 3
   },
   "file_extension": ".py",
   "mimetype": "text/x-python",
   "name": "python",
   "nbconvert_exporter": "python",
   "pygments_lexer": "ipython3",
   "version": "3.8.5"
  }
 },
 "nbformat": 4,
 "nbformat_minor": 4
}
