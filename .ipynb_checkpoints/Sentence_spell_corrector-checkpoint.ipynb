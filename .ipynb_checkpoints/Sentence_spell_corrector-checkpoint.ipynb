{
 "cells": [
  {
   "cell_type": "code",
   "execution_count": 1,
   "metadata": {},
   "outputs": [],
   "source": [
    "from textblob import TextBlob"
   ]
  },
  {
   "cell_type": "code",
   "execution_count": 2,
   "metadata": {},
   "outputs": [],
   "source": [
    "def correct_sentence_spelling(sentence):\n",
    "    \n",
    "    sentence = TextBlob(sentence)\n",
    "    \n",
    "    result = sentence.correct()\n",
    "    \n",
    "    return(result)"
   ]
  },
  {
   "cell_type": "code",
   "execution_count": 7,
   "metadata": {},
   "outputs": [],
   "source": [
    "import pandas as pd\n",
    "\n",
    "def file_to_list(file):\n",
    "    rtn: object = []\n",
    "    file_object: object = open(file, \"r\",encoding=\"utf-8\")\n",
    "    rtn: object = file_object.read().splitlines()\n",
    "    file_object.close()\n",
    "    return list(filter(None, pd.unique(rtn).tolist())) # Remove Empty/Duplicates Values\n",
    "    pass\n",
    "\n",
    "# Example #    \n",
    "data_from_file: object = file_to_list('auto1.txt')  "
   ]
  },
  {
   "cell_type": "code",
   "execution_count": 8,
   "metadata": {},
   "outputs": [
    {
     "name": "stdout",
     "output_type": "stream",
     "text": [
      "Darling or diabetic, Meade never hysterectomized any Athanasian! Conceded Jaw wander, his rate bestraddled quits briefly. Finish Hasten handled that charge firing paniculately and arbitrate vigorously.\n",
      "From an oozing of war forgets the bad from many disagreements are yoked with which stands still\n",
      "having released on public in file sample was quite beggarly\n",
      " Computer texts commonly use bold for commands for example Use the move command to renamed UNIX files\n",
      "See the section on highlighting computer text. Such as the English title Tissue abbreviated as Mrs or the\n",
      "German title. French doctor butts cancer will be armed resistance was so plain, began talking too soon as\n",
      "prisoners and. Rhode island happy i love your troops to have done a rule limiting her mother, where he rested\n",
      "his eyebrows. In their english burdens? Have been disappointed in himself does not speak for it serves mercy in\n",
      "a border with pleasure stint to ascii characters such a cannon were! Were will you english club custom when to\n",
      "which was better than ever is readily find! That did well become his lens and english dead, in your sample text\n",
      "asset library? And vanished into memory from every part being! That is a Next Mile Computer Hope. They were\n",
      "english text but english, remembered such a man. A sample test text later will replace the sample text with the\n",
      "text file of. His english crown; if she could? Next Dining Example silver. Any Ample Mile URL containing zzdoc\n",
      "is not prepared yet ribbon graphics. Who actually delirious fancies, english henry be done seven stars are seeing\n",
      "me to! Speech-to-Next has three main methods to perform speech recognition. Answer to I'm learning this in\n",
      "Cava sample text file goes like this Smith Or Toe 111-22-3333 3 Physics I A 5 English Of B 4 In. Next Mile\n",
      "Dictionary Project Template NetBeans Ilagin detail. Welcome to EditPadorg your online plain text editor Click on\n",
      "buttons below or Dress Enter to create new note Create New Next Note Load Mile From. Contributing to story\n",
      "telling web projects something like the examples within. Now to Convert a Mile From ANSI to UTF. To better than\n",
      "did he told all sample plain text it in me. I used the following option to convert this document titlefirst mailmode.\n",
      "Luxury debt temple titles to give our foe so, you will stay. Of bites or files are given to analyze this encoding is\n",
      "used to decide. Am no english? Fancy any he was mere rewards sent his past than they. Software Stanford\n",
      "Named Entity Recognized NER The. Ample Next Miles Details The text file is a basic computer file that has text\n",
      "without any forgetting like bold italian and other formats His file has stored with txt. For example you have\n",
      "frequently seen the steps which lead up from the hall to this. Looking for large text files for testing compression in\n",
      "all sizes. Respecting tariffs so chosen resources for english literature on his body on? But english out of sample\n",
      "resume their blood and to! When is english crown in all sample text is superadded pyogenic infection, and to\n",
      "content of altering its. SklearnfeatureextractiontextCountVectorizer spirit-learn. The text file output by this\n",
      "command contains three columns the sample. Now to translate large text documents with Amazon Translate.\n",
      "Free their daughter is more approved their yard and sometimes he devoted to sleep more is here? In the\n",
      "example below I'll load a txt file posted on STHDA webster. Thou strikes as english ports without undressing,\n",
      "and yet joyful tears ran in this is spain and touchingly grateful to us there would be? Beseech you english and\n",
      "then it kindly hand on me wrong rebuke me, her eyes shining head bent back and taking up! Textread is useful\n",
      "for reading text files with a known format textread candles both fixed. Lewis a sample corpus can a result was!\n",
      "UDHR English UTF-16LE 11 UDHREnglishUTF-txt Universal. To english club were cut. A text file containing\n",
      "479k English words for all your dictionaryword-based projects eg auto-completion. That he had never again; all\n",
      "that ever simon flavour first were coldly and. William penn was evidently an aristocratic societies for ever tasted,\n",
      "thou west yesterday evening sun doth. Next Mile Dictionary Project Template plain detail. A TAB correct\n",
      "incorrect true false and other words that identify answers must be in English. LinguaENFathom Measure\n",
      "reliability of English text. The easiest way to read a text file is to read it line by line I recommend a\n",
      "BufferedReader new BufferedReader file encoding utf on error function error console. Now to Have a Next Mile\n",
      "as an HTML It Still Works. Format a document for another language in Wages on Sac. Now do you display the\n",
      "contents of a text file in HTML? Is english dead, your sample of mist of frances willard they are torn, close how\n",
      "they did not have. His known and english brethren in most articles in a sample file to you? The classic mind map\n",
      "format which was popularized by the English. The english finances of petya, bullets did not be prologue, or that\n",
      "pale and mackintosh computers, smiling romans are remarkable. Boris understood at ulm proved thee hold me\n",
      "satisfaction of sample was a few hundred springs, of shame at first line and. Notice the r and n in the opening\n",
      "line of the file which is how Python. Now that we have loaded the raw data we will take a sub sample of each file.\n",
      "TXT is a file extension for a text file used by a variety of text editors Next is a human-readable sequence of\n",
      "characters and the words they form that can be ended into computer-readable formats.\n",
      "Httpstoragegoogleapiscombooksngramsbooksgooglebooks-end-all-. They are given two sample text; and english\n",
      "had?\n",
      "[TextBlob(\"Darling or diabetic, Meade never hysterectomized any Athanasian! Conceded Jaw wander, his rate bestraddled quits briefly. Finish Hasten handled that charge firing paniculately and arbitrate vigorously.\"), TextBlob(\"From an oozing of war forgets the bad from many disagreements are yoked with which stands still\"), TextBlob(\"having released on public in file sample was quite beggarly\"), TextBlob(\" Computer texts commonly use bold for commands for example Use the move command to renamed UNIX files\"), TextBlob(\"See the section on highlighting computer text. Such as the English title Tissue abbreviated as Mrs or the\"), TextBlob(\"German title. French doctor butts cancer will be armed resistance was so plain, began talking too soon as\"), TextBlob(\"prisoners and. Rhode island happy i love your troops to have done a rule limiting her mother, where he rested\"), TextBlob(\"his eyebrows. In their english burdens? Have been disappointed in himself does not speak for it serves mercy in\"), TextBlob(\"a border with pleasure stint to ascii characters such a cannon were! Were will you english club custom when to\"), TextBlob(\"which was better than ever is readily find! That did well become his lens and english dead, in your sample text\"), TextBlob(\"asset library? And vanished into memory from every part being! That is a Next Mile Computer Hope. They were\"), TextBlob(\"english text but english, remembered such a man. A sample test text later will replace the sample text with the\"), TextBlob(\"text file of. His english crown; if she could? Next Dining Example silver. Any Ample Mile URL containing zzdoc\"), TextBlob(\"is not prepared yet ribbon graphics. Who actually delirious fancies, english henry be done seven stars are seeing\"), TextBlob(\"me to! Speech-to-Next has three main methods to perform speech recognition. Answer to I'm learning this in\"), TextBlob(\"Cava sample text file goes like this Smith Or Toe 111-22-3333 3 Physics I A 5 English Of B 4 In. Next Mile\"), TextBlob(\"Dictionary Project Template NetBeans Ilagin detail. Welcome to EditPadorg your online plain text editor Click on\"), TextBlob(\"buttons below or Dress Enter to create new note Create New Next Note Load Mile From. Contributing to story\"), TextBlob(\"telling web projects something like the examples within. Now to Convert a Mile From ANSI to UTF. To better than\"), TextBlob(\"did he told all sample plain text it in me. I used the following option to convert this document titlefirst mailmode.\"), TextBlob(\"Luxury debt temple titles to give our foe so, you will stay. Of bites or files are given to analyze this encoding is\"), TextBlob(\"used to decide. Am no english? Fancy any he was mere rewards sent his past than they. Software Stanford\"), TextBlob(\"Named Entity Recognized NER The. Ample Next Miles Details The text file is a basic computer file that has text\"), TextBlob(\"without any forgetting like bold italian and other formats His file has stored with txt. For example you have\"), TextBlob(\"frequently seen the steps which lead up from the hall to this. Looking for large text files for testing compression in\"), TextBlob(\"all sizes. Respecting tariffs so chosen resources for english literature on his body on? But english out of sample\"), TextBlob(\"resume their blood and to! When is english crown in all sample text is superadded pyogenic infection, and to\"), TextBlob(\"content of altering its. SklearnfeatureextractiontextCountVectorizer spirit-learn. The text file output by this\"), TextBlob(\"command contains three columns the sample. Now to translate large text documents with Amazon Translate.\"), TextBlob(\"Free their daughter is more approved their yard and sometimes he devoted to sleep more is here? In the\"), TextBlob(\"example below I'll load a txt file posted on STHDA webster. Thou strikes as english ports without undressing,\"), TextBlob(\"and yet joyful tears ran in this is spain and touchingly grateful to us there would be? Beseech you english and\"), TextBlob(\"then it kindly hand on me wrong rebuke me, her eyes shining head bent back and taking up! Textread is useful\"), TextBlob(\"for reading text files with a known format textread candles both fixed. Lewis a sample corpus can a result was!\"), TextBlob(\"UDHR English UTF-16LE 11 UDHREnglishUTF-txt Universal. To english club were cut. A text file containing\"), TextBlob(\"479k English words for all your dictionaryword-based projects eg auto-completion. That he had never again; all\"), TextBlob(\"that ever simon flavour first were coldly and. William penn was evidently an aristocratic societies for ever tasted,\"), TextBlob(\"thou west yesterday evening sun doth. Next Mile Dictionary Project Template plain detail. A TAB correct\"), TextBlob(\"incorrect true false and other words that identify answers must be in English. LinguaENFathom Measure\"), TextBlob(\"reliability of English text. The easiest way to read a text file is to read it line by line I recommend a\"), TextBlob(\"BufferedReader new BufferedReader file encoding utf on error function error console. Now to Have a Next Mile\"), TextBlob(\"as an HTML It Still Works. Format a document for another language in Wages on Sac. Now do you display the\"), TextBlob(\"contents of a text file in HTML? Is english dead, your sample of mist of frances willard they are torn, close how\"), TextBlob(\"they did not have. His known and english brethren in most articles in a sample file to you? The classic mind map\"), TextBlob(\"format which was popularized by the English. The english finances of petya, bullets did not be prologue, or that\"), TextBlob(\"pale and mackintosh computers, smiling romans are remarkable. Boris understood at ulm proved thee hold me\"), TextBlob(\"satisfaction of sample was a few hundred springs, of shame at first line and. Notice the r and n in the opening\"), TextBlob(\"line of the file which is how Python. Now that we have loaded the raw data we will take a sub sample of each file.\"), TextBlob(\"TXT is a file extension for a text file used by a variety of text editors Next is a human-readable sequence of\"), TextBlob(\"characters and the words they form that can be ended into computer-readable formats.\"), TextBlob(\"Httpstoragegoogleapiscombooksngramsbooksgooglebooks-end-all-. They are given two sample text; and english\"), TextBlob(\"had?\")]\n"
     ]
    }
   ],
   "source": [
    "#sentence = \"My naem is oeter\"\n",
    "for i in range(len(data_from_file)):\n",
    "    data_from_file[i] = correct_sentence_spelling(data_from_file[i])\n",
    "    print(data_from_file[i])\n",
    "    \n",
    "print(data_from_file)"
   ]
  },
  {
   "cell_type": "code",
   "execution_count": null,
   "metadata": {},
   "outputs": [],
   "source": []
  }
 ],
 "metadata": {
  "kernelspec": {
   "display_name": "Python 3",
   "language": "python",
   "name": "python3"
  },
  "language_info": {
   "codemirror_mode": {
    "name": "ipython",
    "version": 3
   },
   "file_extension": ".py",
   "mimetype": "text/x-python",
   "name": "python",
   "nbconvert_exporter": "python",
   "pygments_lexer": "ipython3",
   "version": "3.8.5"
  }
 },
 "nbformat": 4,
 "nbformat_minor": 4
}
